{
  "nbformat": 4,
  "nbformat_minor": 0,
  "metadata": {
    "colab": {
      "provenance": [],
      "authorship_tag": "ABX9TyMJYBzyJrPtX4YAbDHkf4iT",
      "include_colab_link": true
    },
    "kernelspec": {
      "name": "python3",
      "display_name": "Python 3"
    },
    "language_info": {
      "name": "python"
    }
  },
  "cells": [
    {
      "cell_type": "markdown",
      "metadata": {
        "id": "view-in-github",
        "colab_type": "text"
      },
      "source": [
        "<a href=\"https://colab.research.google.com/github/arielchuri/coreinteraction/blob/master/classFiles/class01/code101.ipynb\" target=\"_parent\"><img src=\"https://colab.research.google.com/assets/colab-badge.svg\" alt=\"Open In Colab\"/></a>"
      ]
    },
    {
      "cell_type": "markdown",
      "source": [
        "Code, text, syntax, formatting, etc."
      ],
      "metadata": {
        "id": "sfR2zbL06oiN"
      }
    },
    {
      "cell_type": "markdown",
      "source": [
        "Variables\n",
        "- int\n",
        "- float\n",
        "- str\n",
        "- bool"
      ],
      "metadata": {
        "id": "DhfWLeIP62ZW"
      }
    },
    {
      "cell_type": "markdown",
      "source": [
        "Math operations\n",
        "- +\n",
        "- -\n",
        "- *\n",
        "- /\n",
        "- **"
      ],
      "metadata": {
        "id": "FPunaL657CYx"
      }
    },
    {
      "cell_type": "markdown",
      "source": [
        "Conditionals\n",
        "- if\n",
        "- elif\n",
        "- else\n",
        "- ==\n",
        "- !=\n",
        "- >\n",
        "- <\n",
        "- >=\n",
        "- <="
      ],
      "metadata": {
        "id": "XaPVTJYo7Jcy"
      }
    },
    {
      "cell_type": "markdown",
      "source": [
        "Functions\n",
        "- def\n",
        "- return\n",
        "- arguments"
      ],
      "metadata": {
        "id": "d6KQhI_w7ODx"
      }
    },
    {
      "cell_type": "markdown",
      "source": [
        "-----"
      ],
      "metadata": {
        "id": "_ltxcFKJ7QOS"
      }
    },
    {
      "cell_type": "code",
      "execution_count": null,
      "metadata": {
        "id": "cVphaqqj3gMR"
      },
      "outputs": [],
      "source": [
        "# a function that returns the sum of its two arguments\n",
        "def add(x, y):\n",
        "  print(\"Adding\", x, \"and\", y, \"to get\", x + y)\n",
        "  return x + y"
      ]
    },
    {
      "cell_type": "markdown",
      "source": [
        "this is a test\n",
        "this is another test"
      ],
      "metadata": {
        "id": "X58Mg0H5jNeD"
      }
    },
    {
      "cell_type": "code",
      "source": [
        "add(1, 2)"
      ],
      "metadata": {
        "id": "DawJzOfNlU7e",
        "outputId": "bcb21a7c-2232-4198-c495-2c5a8a19c6f4",
        "colab": {
          "base_uri": "https://localhost:8080/"
        }
      },
      "execution_count": null,
      "outputs": [
        {
          "output_type": "execute_result",
          "data": {
            "text/plain": [
              "3"
            ]
          },
          "metadata": {},
          "execution_count": 2
        }
      ]
    },
    {
      "cell_type": "code",
      "source": [
        "# generate a random number between 1 and 6\n",
        "from random import randint\n",
        "\n",
        "add(randint(1, 6), randint(1, 6))"
      ],
      "metadata": {
        "id": "xE72wRLzlbzS",
        "outputId": "59c6a3cc-bcc1-4201-bbc1-a5192bbe8ebf",
        "colab": {
          "base_uri": "https://localhost:8080/"
        }
      },
      "execution_count": null,
      "outputs": [
        {
          "output_type": "stream",
          "name": "stdout",
          "text": [
            "Adding 5 and 4 to get 9\n"
          ]
        },
        {
          "output_type": "execute_result",
          "data": {
            "text/plain": [
              "9"
            ]
          },
          "metadata": {},
          "execution_count": 11
        }
      ]
    }
  ]
}