{
  "nbformat": 4,
  "nbformat_minor": 0,
  "metadata": {
    "colab": {
      "provenance": [],
      "authorship_tag": "ABX9TyNOLZCwWpIw4U1gI8Dph68t",
      "include_colab_link": true
    },
    "kernelspec": {
      "name": "python3",
      "display_name": "Python 3"
    },
    "language_info": {
      "name": "python"
    }
  },
  "cells": [
    {
      "cell_type": "markdown",
      "metadata": {
        "id": "view-in-github",
        "colab_type": "text"
      },
      "source": [
        "<a href=\"https://colab.research.google.com/github/arielchuri/coreinteraction/blob/master/classFiles/class01/code101.ipynb\" target=\"_parent\"><img src=\"https://colab.research.google.com/assets/colab-badge.svg\" alt=\"Open In Colab\"/></a>"
      ]
    },
    {
      "cell_type": "markdown",
      "source": [
        "Code, text, syntax, formatting, etc."
      ],
      "metadata": {
        "id": "sfR2zbL06oiN"
      }
    },
    {
      "cell_type": "markdown",
      "source": [
        "Variables\n",
        "- int\n",
        "- float\n",
        "- str\n",
        "- bool"
      ],
      "metadata": {
        "id": "DhfWLeIP62ZW"
      }
    },
    {
      "cell_type": "code",
      "source": [
        "fred = 2\n"
      ],
      "metadata": {
        "id": "6SDdj01eTP_H"
      },
      "execution_count": 1,
      "outputs": []
    },
    {
      "cell_type": "code",
      "source": [
        "fred"
      ],
      "metadata": {
        "id": "a2ly9Mu_TZkB",
        "outputId": "586b6a0f-ce71-45a6-cfb0-241e8643589c",
        "colab": {
          "base_uri": "https://localhost:8080/"
        }
      },
      "execution_count": 2,
      "outputs": [
        {
          "output_type": "execute_result",
          "data": {
            "text/plain": [
              "2"
            ]
          },
          "metadata": {},
          "execution_count": 2
        }
      ]
    },
    {
      "cell_type": "code",
      "source": [
        "mary = \"hello\"\n",
        "print(mary)\n",
        "\n",
        "print(fred, mary)"
      ],
      "metadata": {
        "id": "fwEvC7mcTl-0",
        "outputId": "df35260a-5741-45ee-b02d-bccdfed0cba8",
        "colab": {
          "base_uri": "https://localhost:8080/"
        }
      },
      "execution_count": 5,
      "outputs": [
        {
          "output_type": "stream",
          "name": "stdout",
          "text": [
            "hello\n",
            "2 hello\n"
          ]
        }
      ]
    },
    {
      "cell_type": "markdown",
      "source": [
        "Math operations\n",
        "- +\n",
        "- -\n",
        "- *\n",
        "- /\n",
        "- **"
      ],
      "metadata": {
        "id": "FPunaL657CYx"
      }
    },
    {
      "cell_type": "code",
      "source": [
        "mary = 3\n",
        "john = mary + fred\n",
        "print(john)"
      ],
      "metadata": {
        "id": "BW-tT3C4Uckc",
        "outputId": "c2b16a07-1473-4a9d-c567-3b55340d8f93",
        "colab": {
          "base_uri": "https://localhost:8080/"
        }
      },
      "execution_count": 7,
      "outputs": [
        {
          "output_type": "stream",
          "name": "stdout",
          "text": [
            "5\n"
          ]
        }
      ]
    },
    {
      "cell_type": "markdown",
      "source": [
        "Conditionals\n",
        "- if\n",
        "- elif\n",
        "- else\n",
        "- ==\n",
        "- !=\n",
        "- >\n",
        "- <\n",
        "- >=\n",
        "- <="
      ],
      "metadata": {
        "id": "XaPVTJYo7Jcy"
      }
    },
    {
      "cell_type": "code",
      "source": [
        "if fred >= mary:\n",
        "  print(\"fred is greater than or equal to mary\")\n",
        "else:\n",
        "  print(\"fred is less than mary\")"
      ],
      "metadata": {
        "id": "a4D5mwf_Uv2S",
        "outputId": "5648417f-f638-4e5a-e7da-b0be59bfe629",
        "colab": {
          "base_uri": "https://localhost:8080/"
        }
      },
      "execution_count": 8,
      "outputs": [
        {
          "output_type": "stream",
          "name": "stdout",
          "text": [
            "fred is less than mary\n"
          ]
        }
      ]
    },
    {
      "cell_type": "markdown",
      "source": [
        "Functions\n",
        "- def\n",
        "- return\n",
        "- arguments"
      ],
      "metadata": {
        "id": "d6KQhI_w7ODx"
      }
    },
    {
      "cell_type": "code",
      "source": [
        "def print_hello():\n",
        "  print(\"hello\")\n",
        "\n",
        "print_hello()"
      ],
      "metadata": {
        "id": "aDTOyg6zVW5w",
        "outputId": "f117c902-4143-4f0c-c2c0-16bb18ab3749",
        "colab": {
          "base_uri": "https://localhost:8080/"
        }
      },
      "execution_count": 10,
      "outputs": [
        {
          "output_type": "stream",
          "name": "stdout",
          "text": [
            "hello\n"
          ]
        }
      ]
    },
    {
      "cell_type": "markdown",
      "source": [
        "-----"
      ],
      "metadata": {
        "id": "_ltxcFKJ7QOS"
      }
    },
    {
      "cell_type": "code",
      "execution_count": 11,
      "metadata": {
        "id": "cVphaqqj3gMR"
      },
      "outputs": [],
      "source": [
        "# a function that returns the sum of its two arguments\n",
        "def add(x, y):\n",
        "  print(\"Adding\", x, \"and\", y, \"to get\", x + y)\n",
        "  return x + y"
      ]
    },
    {
      "cell_type": "markdown",
      "source": [
        "this is a test\n",
        "this is another test"
      ],
      "metadata": {
        "id": "X58Mg0H5jNeD"
      }
    },
    {
      "cell_type": "code",
      "source": [
        "add(1, 2)"
      ],
      "metadata": {
        "id": "DawJzOfNlU7e",
        "outputId": "b3895f50-ba82-4867-8a52-52bab49f5c4a",
        "colab": {
          "base_uri": "https://localhost:8080/"
        }
      },
      "execution_count": 12,
      "outputs": [
        {
          "output_type": "stream",
          "name": "stdout",
          "text": [
            "Adding 1 and 2 to get 3\n"
          ]
        },
        {
          "output_type": "execute_result",
          "data": {
            "text/plain": [
              "3"
            ]
          },
          "metadata": {},
          "execution_count": 12
        }
      ]
    },
    {
      "cell_type": "code",
      "source": [
        "# generate a random number between 1 and 6\n",
        "from random import randint\n",
        "\n",
        "add(randint(1, 6), randint(1, 6))"
      ],
      "metadata": {
        "id": "xE72wRLzlbzS",
        "outputId": "5ad34ee8-2b32-480b-d7b0-bde897502413",
        "colab": {
          "base_uri": "https://localhost:8080/"
        }
      },
      "execution_count": 13,
      "outputs": [
        {
          "output_type": "stream",
          "name": "stdout",
          "text": [
            "Adding 4 and 1 to get 5\n"
          ]
        },
        {
          "output_type": "execute_result",
          "data": {
            "text/plain": [
              "5"
            ]
          },
          "metadata": {},
          "execution_count": 13
        }
      ]
    },
    {
      "cell_type": "code",
      "source": [
        "print(randint(1, 100))"
      ],
      "metadata": {
        "id": "o2UkcFXLXX2m",
        "outputId": "4ba6b8df-2caa-48da-88c7-e54c5761ffe7",
        "colab": {
          "base_uri": "https://localhost:8080/"
        }
      },
      "execution_count": 19,
      "outputs": [
        {
          "output_type": "stream",
          "name": "stdout",
          "text": [
            "68\n"
          ]
        }
      ]
    }
  ]
}