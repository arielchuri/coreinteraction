{
  "nbformat": 4,
  "nbformat_minor": 0,
  "metadata": {
    "colab": {
      "provenance": [],
      "authorship_tag": "ABX9TyPOxL8ftyRk87gWOgCtU3TM",
      "include_colab_link": true
    },
    "kernelspec": {
      "name": "python3",
      "display_name": "Python 3"
    },
    "language_info": {
      "name": "python"
    }
  },
  "cells": [
    {
      "cell_type": "markdown",
      "metadata": {
        "id": "view-in-github",
        "colab_type": "text"
      },
      "source": [
        "<a href=\"https://colab.research.google.com/github/arielchuri/coreinteraction/blob/master/code102.ipynb\" target=\"_parent\"><img src=\"https://colab.research.google.com/assets/colab-badge.svg\" alt=\"Open In Colab\"/></a>"
      ]
    },
    {
      "cell_type": "code",
      "execution_count": 1,
      "metadata": {
        "id": "GdIfHKYM1s_r",
        "outputId": "624bb8cb-3946-4fa3-d1e8-e314706532b0",
        "colab": {
          "base_uri": "https://localhost:8080/"
        }
      },
      "outputs": [
        {
          "output_type": "stream",
          "name": "stdout",
          "text": [
            "Please select operation -\n",
            "1. Add\n",
            "2. Subtract\n",
            "3. Multiply\n",
            "4. Divide\n",
            "\n",
            "Select operations form 1, 2, 3, 4 :1\n",
            "Enter first number: 1\n",
            "Enter second number: 2\n",
            "1 + 2 = 3\n"
          ]
        }
      ],
      "source": [
        "# simple caluculator with user input\n",
        "# Author: Ariel Churi\n",
        "def calc():\n",
        "    print(\"Please select operation -\\n\" \\\n",
        "            \"1. Add\\n\" \\\n",
        "            \"2. Subtract\\n\" \\\n",
        "            \"3. Multiply\\n\" \\\n",
        "            \"4. Divide\\n\")\n",
        "\n",
        "    choice = input(\"Select operations form 1, 2, 3, 4 :\")\n",
        "\n",
        "    num1 = int(input(\"Enter first number: \"))\n",
        "    num2 = int(input(\"Enter second number: \"))\n",
        "\n",
        "    if choice == '1':\n",
        "        print(num1, \"+\", num2, \"=\", num1+num2)\n",
        "    elif choice == '2':\n",
        "        print(num1, \"-\", num2, \"=\", num1-num2)\n",
        "    elif choice == '3':\n",
        "        print(num1, \"*\", num2, \"=\", num1*num2)\n",
        "    elif choice == '4':\n",
        "        print(num1, \"/\", num2, \"=\", num1/num2)\n",
        "    else:\n",
        "        print(\"Invalid input\")\n",
        "\n",
        "calc()"
      ]
    }
  ]
}