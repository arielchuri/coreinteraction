{
  "nbformat": 4,
  "nbformat_minor": 0,
  "metadata": {
    "colab": {
      "provenance": [],
      "include_colab_link": true
    },
    "kernelspec": {
      "name": "python3",
      "display_name": "Python 3"
    },
    "language_info": {
      "name": "python"
    }
  },
  "cells": [
    {
      "cell_type": "markdown",
      "metadata": {
        "id": "view-in-github",
        "colab_type": "text"
      },
      "source": [
        "<a href=\"https://colab.research.google.com/github/arielchuri/coreinteraction/blob/master/jupyter/code101.ipynb\" target=\"_parent\"><img src=\"https://colab.research.google.com/assets/colab-badge.svg\" alt=\"Open In Colab\"/></a>"
      ]
    },
    {
      "cell_type": "markdown",
      "source": [
        "# code101\n",
        "\n",
        "This is an introduction to programming. This document is a *jupyter* notebook. It allows us to write text like this and, also write *python* code that we can run right in the browser.\n",
        "\n",
        "You can can make a copy of this notebook and try it out for yourself."
      ],
      "metadata": {
        "id": "iLQTk_xI4CBB"
      }
    },
    {
      "cell_type": "markdown",
      "source": [
        "## Code, text, syntax, formatting, etc.\n",
        "\n",
        "Python code is just text. You can type it in a code block and press the play button to run it.\n",
        "\n",
        "The code below creates a *variable* named *fred* and assigns it the value *2*.\n",
        "\n",
        "The second line prints the value of *fred*."
      ],
      "metadata": {
        "id": "sfR2zbL06oiN"
      }
    },
    {
      "cell_type": "code",
      "source": [
        "fred = 2\n",
        "print(fred)"
      ],
      "metadata": {
        "id": "6SDdj01eTP_H",
        "outputId": "cd92cd52-6b45-451b-e95b-1de4f5cf5bf5",
        "colab": {
          "base_uri": "https://localhost:8080/"
        }
      },
      "execution_count": null,
      "outputs": [
        {
          "output_type": "stream",
          "name": "stdout",
          "text": [
            "2\n"
          ]
        }
      ]
    },
    {
      "cell_type": "markdown",
      "source": [
        "##Variables\n",
        "- int\n",
        "- float\n",
        "- str\n",
        "- bool"
      ],
      "metadata": {
        "id": "DhfWLeIP62ZW"
      }
    },
    {
      "cell_type": "code",
      "source": [
        "mary = \"hello\"\n",
        "print(mary)\n",
        "print(fred, mary)"
      ],
      "metadata": {
        "id": "fwEvC7mcTl-0",
        "outputId": "ef80bad2-ab4a-46d1-a6dd-b6fdeffb1cea",
        "colab": {
          "base_uri": "https://localhost:8080/"
        }
      },
      "execution_count": null,
      "outputs": [
        {
          "output_type": "stream",
          "name": "stdout",
          "text": [
            "hello\n",
            "2 hello\n"
          ]
        }
      ]
    },
    {
      "cell_type": "markdown",
      "source": [
        "*Variables* have different types. For example, *fred* is an *int* (integer) and *mary* is a *str* (text string).\n",
        "\n",
        "```python\n",
        "print(fred + mary)\n",
        "```\n",
        "The above code will result in an error an error because you cannat add 2 and \"hello\"."
      ],
      "metadata": {
        "id": "ER1x1jM59jY8"
      }
    },
    {
      "cell_type": "markdown",
      "source": [
        "## Math operations\n",
        "- +\n",
        "- -\n",
        "- *\n",
        "- /\n",
        "- **"
      ],
      "metadata": {
        "id": "FPunaL657CYx"
      }
    },
    {
      "cell_type": "code",
      "source": [
        "mary = 3\n",
        "john = mary + fred\n",
        "print(john)\n",
        "print(mary * john)"
      ],
      "metadata": {
        "id": "BW-tT3C4Uckc",
        "outputId": "c55d7997-f73c-45c2-f3db-6b48ef3dec98",
        "colab": {
          "base_uri": "https://localhost:8080/"
        }
      },
      "execution_count": 19,
      "outputs": [
        {
          "output_type": "stream",
          "name": "stdout",
          "text": [
            "5\n",
            "15\n"
          ]
        }
      ]
    },
    {
      "cell_type": "markdown",
      "source": [
        "## Conditionals\n",
        "- if\n",
        "- elif\n",
        "- else\n",
        "- ==\n",
        "- !=\n",
        "- \\>\n",
        "- <\n",
        "- \\>=\n",
        "- <="
      ],
      "metadata": {
        "id": "XaPVTJYo7Jcy"
      }
    },
    {
      "cell_type": "code",
      "source": [
        "if fred >= mary:\n",
        "  print(\"fred is greater than or equal to mary\")\n",
        "else:\n",
        "  print(\"fred is less than mary\")"
      ],
      "metadata": {
        "id": "a4D5mwf_Uv2S",
        "outputId": "5648417f-f638-4e5a-e7da-b0be59bfe629",
        "colab": {
          "base_uri": "https://localhost:8080/"
        }
      },
      "execution_count": null,
      "outputs": [
        {
          "output_type": "stream",
          "name": "stdout",
          "text": [
            "fred is less than mary\n"
          ]
        }
      ]
    },
    {
      "cell_type": "markdown",
      "source": [
        "Take notice of the indentation in the above example. Python uses the indentation to group statements together. Incorrect indentation will result in an error."
      ],
      "metadata": {
        "id": "ap-aAyG16O25"
      }
    },
    {
      "cell_type": "markdown",
      "source": [
        "## Functions\n",
        "- def\n",
        "- return\n",
        "- arguments"
      ],
      "metadata": {
        "id": "d6KQhI_w7ODx"
      }
    },
    {
      "cell_type": "code",
      "source": [
        "def helloFunction():\n",
        "  print(\"hello\")\n"
      ],
      "metadata": {
        "id": "aDTOyg6zVW5w",
        "outputId": "ce8f6165-5422-44cf-ca92-852c7fb075cc",
        "colab": {
          "base_uri": "https://localhost:8080/"
        }
      },
      "execution_count": null,
      "outputs": [
        {
          "output_type": "stream",
          "name": "stdout",
          "text": [
            "hello\n"
          ]
        }
      ]
    },
    {
      "cell_type": "markdown",
      "source": [
        "The above code defines a function called *helloFunction*.\n",
        "\n",
        "The function *helloFunction* prints the string *hello*.\n",
        "\n",
        "The code below calls the function *helloFunction*"
      ],
      "metadata": {
        "id": "e_8dRlvd6yBC"
      }
    },
    {
      "cell_type": "code",
      "source": [
        "helloFunction()"
      ],
      "metadata": {
        "id": "RFMdobH26xSi"
      },
      "execution_count": null,
      "outputs": []
    },
    {
      "cell_type": "markdown",
      "source": [
        "### Arguments\n",
        "\n",
        "Arguments are values that are passed to a function. The example below requires two arguments."
      ],
      "metadata": {
        "id": "6I-W1go_7DRf"
      }
    },
    {
      "cell_type": "code",
      "execution_count": null,
      "metadata": {
        "id": "cVphaqqj3gMR"
      },
      "outputs": [],
      "source": [
        "# a function that returns the sum of its two arguments\n",
        "def add(x, y):\n",
        "  print(\"Adding\", x, \"and\", y, \"to get\", x + y)"
      ]
    },
    {
      "cell_type": "markdown",
      "source": [
        "When the function is called, the arguments are passed to the function. Try editing the code to use different numbers."
      ],
      "metadata": {
        "id": "X58Mg0H5jNeD"
      }
    },
    {
      "cell_type": "code",
      "source": [
        "add(1, 2)"
      ],
      "metadata": {
        "id": "DawJzOfNlU7e",
        "outputId": "d109cb5a-cdbc-44e2-f779-7e1e259c4a41",
        "colab": {
          "base_uri": "https://localhost:8080/"
        }
      },
      "execution_count": null,
      "outputs": [
        {
          "output_type": "stream",
          "name": "stdout",
          "text": [
            "Adding 1 and 2 to get 3\n"
          ]
        }
      ]
    },
    {
      "cell_type": "markdown",
      "source": [
        "## Random numbers\n",
        "\n",
        "Generating random numbers requires importing the *random* module. In the below example we again call the *add* function we created and pass it the required two arguments. Can you see them? They are seperated by a comma.\n",
        "\n",
        "This time, each argument is another function called *randint*. This argument also requires two arguments. Try pressing the run button on the below code and see it generate new numbers each time."
      ],
      "metadata": {
        "id": "GlA781pf73Wt"
      }
    },
    {
      "cell_type": "code",
      "source": [
        "# generate a random number between 1 and 6\n",
        "from random import randint\n",
        "add(randint(1, 6), randint(1, 6))"
      ],
      "metadata": {
        "id": "xE72wRLzlbzS",
        "outputId": "633e45b5-d3c1-4530-f864-73583a381dd8",
        "colab": {
          "base_uri": "https://localhost:8080/"
        }
      },
      "execution_count": null,
      "outputs": [
        {
          "output_type": "stream",
          "name": "stdout",
          "text": [
            "Adding 2 and 4 to get 6\n"
          ]
        }
      ]
    },
    {
      "cell_type": "code",
      "source": [
        "print(randint(1, 100))"
      ],
      "metadata": {
        "id": "o2UkcFXLXX2m",
        "outputId": "a45b11d8-f647-471b-abd9-7dc99c370f06",
        "colab": {
          "base_uri": "https://localhost:8080/"
        }
      },
      "execution_count": null,
      "outputs": [
        {
          "output_type": "stream",
          "name": "stdout",
          "text": [
            "17\n"
          ]
        }
      ]
    }
  ]
}