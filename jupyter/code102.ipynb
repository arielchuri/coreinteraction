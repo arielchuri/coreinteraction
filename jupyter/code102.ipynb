{
  "nbformat": 4,
  "nbformat_minor": 0,
  "metadata": {
    "colab": {
      "provenance": [],
      "authorship_tag": "ABX9TyPHVnF5p9gClyB5Mr4G8eyH",
      "include_colab_link": true
    },
    "kernelspec": {
      "name": "python3",
      "display_name": "Python 3"
    },
    "language_info": {
      "name": "python"
    }
  },
  "cells": [
    {
      "cell_type": "markdown",
      "metadata": {
        "id": "view-in-github",
        "colab_type": "text"
      },
      "source": [
        "<a href=\"https://colab.research.google.com/github/arielchuri/coreinteraction/blob/master/code102.ipynb\" target=\"_parent\"><img src=\"https://colab.research.google.com/assets/colab-badge.svg\" alt=\"Open In Colab\"/></a>"
      ]
    },
    {
      "cell_type": "code",
      "execution_count": 2,
      "metadata": {
        "id": "GdIfHKYM1s_r",
        "outputId": "ac4ff34c-cffd-4dce-b68c-2e88aee9492a",
        "colab": {
          "base_uri": "https://localhost:8080/"
        }
      },
      "outputs": [
        {
          "output_type": "stream",
          "name": "stdout",
          "text": [
            "Please select operation -\n",
            "1. Add\n",
            "2. Subtract\n",
            "3. Multiply\n",
            "4. Divide\n",
            "\n",
            "Select operations form 1, 2, 3, 4 :3\n",
            "Enter first number: 3\n",
            "Enter second number: 4\n",
            "3 * 4 = 12\n"
          ]
        }
      ],
      "source": [
        "# simple caluculator with user input\n",
        "# Author: Ariel Churi\n",
        "def calc():\n",
        "    print(\"Please select operation -\\n\" \\\n",
        "            \"1. Add\\n\" \\\n",
        "            \"2. Subtract\\n\" \\\n",
        "            \"3. Multiply\\n\" \\\n",
        "            \"4. Divide\\n\")\n",
        "\n",
        "    choice = input(\"Select operations form 1, 2, 3, 4 :\")\n",
        "\n",
        "    num1 = int(input(\"Enter first number: \"))\n",
        "    num2 = int(input(\"Enter second number: \"))\n",
        "\n",
        "    if choice == '1':\n",
        "        print(num1, \"+\", num2, \"=\", num1+num2)\n",
        "    elif choice == '2':\n",
        "        print(num1, \"-\", num2, \"=\", num1-num2)\n",
        "    elif choice == '3':\n",
        "        print(num1, \"*\", num2, \"=\", num1*num2)\n",
        "    elif choice == '4':\n",
        "        print(num1, \"/\", num2, \"=\", num1/num2)\n",
        "    else:\n",
        "        print(\"Invalid input\")\n",
        "\n",
        "calc()"
      ]
    },
    {
      "cell_type": "code",
      "source": [
        "# an example of a state machine with user input\n",
        "# Author: Ariel Churi\n",
        "\n",
        "def state_machine():\n",
        "    state = 0\n",
        "    while state != 3:\n",
        "        print(\"Please select operation -\\n\" \\\n",
        "                \"1. Add\\n\" \\\n",
        "                \"2. Subtract\\n\" \\\n",
        "                \"3. Exit\\n\")\n",
        "        choice = input(\"Select operations form 1, 2, 3 :\")\n",
        "        if choice == '3':\n",
        "            state = 3\n",
        "            print(\"Goodbye\")\n",
        "            return\n",
        "        num1 = int(input(\"Enter first number: \"))\n",
        "        num2 = int(input(\"Enter second number: \"))\n",
        "        if choice == '1':\n",
        "            print(num1, \"+\", num2, \"=\", num1+num2)\n",
        "        elif choice == '2':\n",
        "            print(num1, \"-\", num2, \"=\", num1-num2)\n",
        "        else:\n",
        "            print(\"Invalid input\")\n",
        "\n",
        "state_machine()"
      ],
      "metadata": {
        "colab": {
          "base_uri": "https://localhost:8080/"
        },
        "id": "AaxpFKbF8Og3",
        "outputId": "499becfe-4cee-40fd-dc15-7440aa8ac62d"
      },
      "execution_count": 7,
      "outputs": [
        {
          "output_type": "stream",
          "name": "stdout",
          "text": [
            "Please select operation -\n",
            "1. Add\n",
            "2. Subtract\n",
            "3. Exit\n",
            "\n",
            "Select operations form 1, 2, 3 :3\n",
            "Goodbye\n"
          ]
        }
      ]
    },
    {
      "cell_type": "code",
      "source": [
        "\n",
        "\n",
        "# a list for keeping track of my character\n",
        "# character has three attributes: name, health, gold, and weapon\n",
        "my_character = [\"Ferdinando\",\"12\",\"5\",\"sword\"]\n",
        "print(\"Name: \" + my_character[0])\n",
        "\n",
        "def text_adventure():\n",
        "    print(\"Welcome to the adventure game!\")\n",
        "    print(\"You are in a dark room.\")\n",
        "    print(\"There is a door to your right and left.\")\n",
        "    print(\"What do you want to do? 1. Go right, 2. Go left\")\n",
        "\n",
        "    choice = input()\n",
        "\n",
        "    if choice == '1':\n",
        "      print(\"You went right.\")\n",
        "    elif choice == '2':\n",
        "      print(\"You went left.\")\n",
        "\n",
        "print(my_character)\n",
        "text_adventure()\n",
        "\n",
        "\n",
        ""
      ],
      "metadata": {
        "id": "AQZK2VjZ-ODt",
        "outputId": "f22d1c53-40ab-4d84-b08b-997891f407c1",
        "colab": {
          "base_uri": "https://localhost:8080/"
        }
      },
      "execution_count": 21,
      "outputs": [
        {
          "metadata": {
            "tags": null
          },
          "name": "stdout",
          "output_type": "stream",
          "text": [
            "Name: Ferdinando\n",
            "['Ferdinando', '12', '5', 'sword']\n",
            "Welcome to the adventure game!\n",
            "You are in a dark room.\n",
            "There is a door to your right and left.\n",
            "What do you want to do? 1. Go right, 2. Go left\n",
            "You went right.\n"
          ]
        }
      ]
    }
  ]
}